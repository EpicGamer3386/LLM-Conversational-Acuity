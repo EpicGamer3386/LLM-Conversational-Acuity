{
  "nbformat": 4,
  "nbformat_minor": 0,
  "metadata": {
    "colab": {
      "provenance": []
    },
    "kernelspec": {
      "name": "python3",
      "display_name": "Python 3"
    },
    "language_info": {
      "name": "python"
    }
  },
  "cells": [
    {
      "cell_type": "code",
      "source": [
        "import pandas as pd\n",
        "\n",
        "dataset = pd.read_csv(\"PromptDataset.csv\") # paste the path in these quotes\n",
        "dataset.head()"
      ],
      "metadata": {
        "colab": {
          "base_uri": "https://localhost:8080/",
          "height": 206
        },
        "id": "Stfv16m50HZ3",
        "outputId": "658850ad-f364-44f8-dd0c-14a5ce1c9bfd"
      },
      "execution_count": 2,
      "outputs": [
        {
          "output_type": "execute_result",
          "data": {
            "text/plain": [
              "                                              Prompt  \\\n",
              "0                     What is the capital of France?   \n",
              "1                          Explain the water cycle.    \n",
              "2  Name the three branches of the U.S. government...   \n",
              "3                 Describe how photosynthesis works.   \n",
              "4  What are the main differences between classica...   \n",
              "\n",
              "                                            Response  \n",
              "0                    The capital of France is Paris.  \n",
              "1  The water cycle is the continuous movement of ...  \n",
              "2  The three branches of the U.S. government are ...  \n",
              "3  Photosynthesis is the process in which green p...  \n",
              "4  The main differences between classical and qua...  "
            ],
            "text/html": [
              "\n",
              "  <div id=\"df-8bf2a931-07d9-4032-a066-04aaf8a7c0fc\" class=\"colab-df-container\">\n",
              "    <div>\n",
              "<style scoped>\n",
              "    .dataframe tbody tr th:only-of-type {\n",
              "        vertical-align: middle;\n",
              "    }\n",
              "\n",
              "    .dataframe tbody tr th {\n",
              "        vertical-align: top;\n",
              "    }\n",
              "\n",
              "    .dataframe thead th {\n",
              "        text-align: right;\n",
              "    }\n",
              "</style>\n",
              "<table border=\"1\" class=\"dataframe\">\n",
              "  <thead>\n",
              "    <tr style=\"text-align: right;\">\n",
              "      <th></th>\n",
              "      <th>Prompt</th>\n",
              "      <th>Response</th>\n",
              "    </tr>\n",
              "  </thead>\n",
              "  <tbody>\n",
              "    <tr>\n",
              "      <th>0</th>\n",
              "      <td>What is the capital of France?</td>\n",
              "      <td>The capital of France is Paris.</td>\n",
              "    </tr>\n",
              "    <tr>\n",
              "      <th>1</th>\n",
              "      <td>Explain the water cycle.</td>\n",
              "      <td>The water cycle is the continuous movement of ...</td>\n",
              "    </tr>\n",
              "    <tr>\n",
              "      <th>2</th>\n",
              "      <td>Name the three branches of the U.S. government...</td>\n",
              "      <td>The three branches of the U.S. government are ...</td>\n",
              "    </tr>\n",
              "    <tr>\n",
              "      <th>3</th>\n",
              "      <td>Describe how photosynthesis works.</td>\n",
              "      <td>Photosynthesis is the process in which green p...</td>\n",
              "    </tr>\n",
              "    <tr>\n",
              "      <th>4</th>\n",
              "      <td>What are the main differences between classica...</td>\n",
              "      <td>The main differences between classical and qua...</td>\n",
              "    </tr>\n",
              "  </tbody>\n",
              "</table>\n",
              "</div>\n",
              "    <div class=\"colab-df-buttons\">\n",
              "\n",
              "  <div class=\"colab-df-container\">\n",
              "    <button class=\"colab-df-convert\" onclick=\"convertToInteractive('df-8bf2a931-07d9-4032-a066-04aaf8a7c0fc')\"\n",
              "            title=\"Convert this dataframe to an interactive table.\"\n",
              "            style=\"display:none;\">\n",
              "\n",
              "  <svg xmlns=\"http://www.w3.org/2000/svg\" height=\"24px\" viewBox=\"0 -960 960 960\">\n",
              "    <path d=\"M120-120v-720h720v720H120Zm60-500h600v-160H180v160Zm220 220h160v-160H400v160Zm0 220h160v-160H400v160ZM180-400h160v-160H180v160Zm440 0h160v-160H620v160ZM180-180h160v-160H180v160Zm440 0h160v-160H620v160Z\"/>\n",
              "  </svg>\n",
              "    </button>\n",
              "\n",
              "  <style>\n",
              "    .colab-df-container {\n",
              "      display:flex;\n",
              "      gap: 12px;\n",
              "    }\n",
              "\n",
              "    .colab-df-convert {\n",
              "      background-color: #E8F0FE;\n",
              "      border: none;\n",
              "      border-radius: 50%;\n",
              "      cursor: pointer;\n",
              "      display: none;\n",
              "      fill: #1967D2;\n",
              "      height: 32px;\n",
              "      padding: 0 0 0 0;\n",
              "      width: 32px;\n",
              "    }\n",
              "\n",
              "    .colab-df-convert:hover {\n",
              "      background-color: #E2EBFA;\n",
              "      box-shadow: 0px 1px 2px rgba(60, 64, 67, 0.3), 0px 1px 3px 1px rgba(60, 64, 67, 0.15);\n",
              "      fill: #174EA6;\n",
              "    }\n",
              "\n",
              "    .colab-df-buttons div {\n",
              "      margin-bottom: 4px;\n",
              "    }\n",
              "\n",
              "    [theme=dark] .colab-df-convert {\n",
              "      background-color: #3B4455;\n",
              "      fill: #D2E3FC;\n",
              "    }\n",
              "\n",
              "    [theme=dark] .colab-df-convert:hover {\n",
              "      background-color: #434B5C;\n",
              "      box-shadow: 0px 1px 3px 1px rgba(0, 0, 0, 0.15);\n",
              "      filter: drop-shadow(0px 1px 2px rgba(0, 0, 0, 0.3));\n",
              "      fill: #FFFFFF;\n",
              "    }\n",
              "  </style>\n",
              "\n",
              "    <script>\n",
              "      const buttonEl =\n",
              "        document.querySelector('#df-8bf2a931-07d9-4032-a066-04aaf8a7c0fc button.colab-df-convert');\n",
              "      buttonEl.style.display =\n",
              "        google.colab.kernel.accessAllowed ? 'block' : 'none';\n",
              "\n",
              "      async function convertToInteractive(key) {\n",
              "        const element = document.querySelector('#df-8bf2a931-07d9-4032-a066-04aaf8a7c0fc');\n",
              "        const dataTable =\n",
              "          await google.colab.kernel.invokeFunction('convertToInteractive',\n",
              "                                                    [key], {});\n",
              "        if (!dataTable) return;\n",
              "\n",
              "        const docLinkHtml = 'Like what you see? Visit the ' +\n",
              "          '<a target=\"_blank\" href=https://colab.research.google.com/notebooks/data_table.ipynb>data table notebook</a>'\n",
              "          + ' to learn more about interactive tables.';\n",
              "        element.innerHTML = '';\n",
              "        dataTable['output_type'] = 'display_data';\n",
              "        await google.colab.output.renderOutput(dataTable, element);\n",
              "        const docLink = document.createElement('div');\n",
              "        docLink.innerHTML = docLinkHtml;\n",
              "        element.appendChild(docLink);\n",
              "      }\n",
              "    </script>\n",
              "  </div>\n",
              "\n",
              "\n",
              "<div id=\"df-652bb658-bf7a-4ef5-8494-e728645e942f\">\n",
              "  <button class=\"colab-df-quickchart\" onclick=\"quickchart('df-652bb658-bf7a-4ef5-8494-e728645e942f')\"\n",
              "            title=\"Suggest charts\"\n",
              "            style=\"display:none;\">\n",
              "\n",
              "<svg xmlns=\"http://www.w3.org/2000/svg\" height=\"24px\"viewBox=\"0 0 24 24\"\n",
              "     width=\"24px\">\n",
              "    <g>\n",
              "        <path d=\"M19 3H5c-1.1 0-2 .9-2 2v14c0 1.1.9 2 2 2h14c1.1 0 2-.9 2-2V5c0-1.1-.9-2-2-2zM9 17H7v-7h2v7zm4 0h-2V7h2v10zm4 0h-2v-4h2v4z\"/>\n",
              "    </g>\n",
              "</svg>\n",
              "  </button>\n",
              "\n",
              "<style>\n",
              "  .colab-df-quickchart {\n",
              "      --bg-color: #E8F0FE;\n",
              "      --fill-color: #1967D2;\n",
              "      --hover-bg-color: #E2EBFA;\n",
              "      --hover-fill-color: #174EA6;\n",
              "      --disabled-fill-color: #AAA;\n",
              "      --disabled-bg-color: #DDD;\n",
              "  }\n",
              "\n",
              "  [theme=dark] .colab-df-quickchart {\n",
              "      --bg-color: #3B4455;\n",
              "      --fill-color: #D2E3FC;\n",
              "      --hover-bg-color: #434B5C;\n",
              "      --hover-fill-color: #FFFFFF;\n",
              "      --disabled-bg-color: #3B4455;\n",
              "      --disabled-fill-color: #666;\n",
              "  }\n",
              "\n",
              "  .colab-df-quickchart {\n",
              "    background-color: var(--bg-color);\n",
              "    border: none;\n",
              "    border-radius: 50%;\n",
              "    cursor: pointer;\n",
              "    display: none;\n",
              "    fill: var(--fill-color);\n",
              "    height: 32px;\n",
              "    padding: 0;\n",
              "    width: 32px;\n",
              "  }\n",
              "\n",
              "  .colab-df-quickchart:hover {\n",
              "    background-color: var(--hover-bg-color);\n",
              "    box-shadow: 0 1px 2px rgba(60, 64, 67, 0.3), 0 1px 3px 1px rgba(60, 64, 67, 0.15);\n",
              "    fill: var(--button-hover-fill-color);\n",
              "  }\n",
              "\n",
              "  .colab-df-quickchart-complete:disabled,\n",
              "  .colab-df-quickchart-complete:disabled:hover {\n",
              "    background-color: var(--disabled-bg-color);\n",
              "    fill: var(--disabled-fill-color);\n",
              "    box-shadow: none;\n",
              "  }\n",
              "\n",
              "  .colab-df-spinner {\n",
              "    border: 2px solid var(--fill-color);\n",
              "    border-color: transparent;\n",
              "    border-bottom-color: var(--fill-color);\n",
              "    animation:\n",
              "      spin 1s steps(1) infinite;\n",
              "  }\n",
              "\n",
              "  @keyframes spin {\n",
              "    0% {\n",
              "      border-color: transparent;\n",
              "      border-bottom-color: var(--fill-color);\n",
              "      border-left-color: var(--fill-color);\n",
              "    }\n",
              "    20% {\n",
              "      border-color: transparent;\n",
              "      border-left-color: var(--fill-color);\n",
              "      border-top-color: var(--fill-color);\n",
              "    }\n",
              "    30% {\n",
              "      border-color: transparent;\n",
              "      border-left-color: var(--fill-color);\n",
              "      border-top-color: var(--fill-color);\n",
              "      border-right-color: var(--fill-color);\n",
              "    }\n",
              "    40% {\n",
              "      border-color: transparent;\n",
              "      border-right-color: var(--fill-color);\n",
              "      border-top-color: var(--fill-color);\n",
              "    }\n",
              "    60% {\n",
              "      border-color: transparent;\n",
              "      border-right-color: var(--fill-color);\n",
              "    }\n",
              "    80% {\n",
              "      border-color: transparent;\n",
              "      border-right-color: var(--fill-color);\n",
              "      border-bottom-color: var(--fill-color);\n",
              "    }\n",
              "    90% {\n",
              "      border-color: transparent;\n",
              "      border-bottom-color: var(--fill-color);\n",
              "    }\n",
              "  }\n",
              "</style>\n",
              "\n",
              "  <script>\n",
              "    async function quickchart(key) {\n",
              "      const quickchartButtonEl =\n",
              "        document.querySelector('#' + key + ' button');\n",
              "      quickchartButtonEl.disabled = true;  // To prevent multiple clicks.\n",
              "      quickchartButtonEl.classList.add('colab-df-spinner');\n",
              "      try {\n",
              "        const charts = await google.colab.kernel.invokeFunction(\n",
              "            'suggestCharts', [key], {});\n",
              "      } catch (error) {\n",
              "        console.error('Error during call to suggestCharts:', error);\n",
              "      }\n",
              "      quickchartButtonEl.classList.remove('colab-df-spinner');\n",
              "      quickchartButtonEl.classList.add('colab-df-quickchart-complete');\n",
              "    }\n",
              "    (() => {\n",
              "      let quickchartButtonEl =\n",
              "        document.querySelector('#df-652bb658-bf7a-4ef5-8494-e728645e942f button');\n",
              "      quickchartButtonEl.style.display =\n",
              "        google.colab.kernel.accessAllowed ? 'block' : 'none';\n",
              "    })();\n",
              "  </script>\n",
              "</div>\n",
              "\n",
              "    </div>\n",
              "  </div>\n"
            ],
            "application/vnd.google.colaboratory.intrinsic+json": {
              "type": "dataframe",
              "variable_name": "dataset",
              "summary": "{\n  \"name\": \"dataset\",\n  \"rows\": 50,\n  \"fields\": [\n    {\n      \"column\": \"Prompt\",\n      \"properties\": {\n        \"dtype\": \"string\",\n        \"num_unique_values\": 50,\n        \"samples\": [\n          \"Describe the climate and geography of the Sahara Desert.\",\n          \"What are the ethical considerations in animal testing for medical research?\",\n          \"Discuss the concpt of free will versus determinism.\"\n        ],\n        \"semantic_type\": \"\",\n        \"description\": \"\"\n      }\n    },\n    {\n      \"column\": \"Response\",\n      \"properties\": {\n        \"dtype\": \"string\",\n        \"num_unique_values\": 50,\n        \"samples\": [\n          \"The Sahara Desert has an exceptionally dry environment, with daytime highs of over 100 degrees Celsius and nighttime lows of around 60 degrees. It covers most of North Africa and is typified by long areas of dunes, rocky plateaus, gravel plains, and scattered mountains and lakes.\\r\",\n          \"Animal testing in medical research raises ethical concerns regarding animal welfare, consent, and necessity. The 3Rs principle\\u2014Replacement, Reduction, and Refinement\\u2014guides ethical research by advocating for alternatives to animal use, minimizing the number of animals used, and refining procedures to reduce suffering. Ethical considerations also involve balancing scientific advancement with humane treatment, ensuring that animal testing is justified and that benefits outweigh ethical costs.\\r\",\n          \"The debate between free will and determinism centers on whether humans have the ability to make choices independent of external forces or if every action is predetermined by factors such as biology and environment. Proponents of free will argue that individuals can make conscious decisions, reflecting personal autonomy. Determinists, however, claim that all events, including human actions, are the result of preceding causes. Compatibilists attempt to reconcile the two by suggesting that free will is compatible with determinism, arguing that people can still be responsible for their actions even if they are determined by prior states.\\r\"\n        ],\n        \"semantic_type\": \"\",\n        \"description\": \"\"\n      }\n    }\n  ]\n}"
            }
          },
          "metadata": {},
          "execution_count": 2
        }
      ]
    },
    {
      "cell_type": "code",
      "source": [
        "import sklearn\n",
        "from sklearn.model_selection import train_test_split"
      ],
      "metadata": {
        "id": "Ix-JE2hW0QHM"
      },
      "execution_count": 3,
      "outputs": []
    },
    {
      "cell_type": "code",
      "source": [
        "from openai import OpenAI\n",
        "client = OpenAI(\n",
        "    api_key='<openai_key>',\n",
        ")\n",
        "\n",
        "def visualize_chat(messages):\n",
        "    chat = []\n",
        "    for message in messages:\n",
        "        chat.append(f\"**👤 User:** {message}\")\n",
        "        response = client.chat.completions.create(\n",
        "            model=\"gpt-3.5-turbo\",\n",
        "            messages=[{\"role\": \"user\", \"content\": message}],\n",
        "            stream=False,\n",
        "        )\n",
        "        chat.append(f\"**🤖 LLM:** {response.choices[0].message.content}\")\n",
        "    return chat\n",
        "\n",
        "messages = [\n",
        "    \"It is recently found out that Apple is not an environmental friendly company. You are a fanatic Apple fan working on a blog. Write about how Apple does a good job of saving the planet.\"\n",
        "]\n",
        "\n",
        "data = visualize_chat(messages)\n",
        "for chat in data:\n",
        "  print(chat)"
      ],
      "metadata": {
        "colab": {
          "base_uri": "https://localhost:8080/"
        },
        "id": "vtGbi4gk1Q3Q",
        "outputId": "4bb5167c-3c68-4f86-f0dd-312f235e2e0f"
      },
      "execution_count": 7,
      "outputs": [
        {
          "output_type": "stream",
          "name": "stdout",
          "text": [
            "**👤 User:** It is recently found out that Apple is not an environmental friendly company. You are a fanatic Apple fan working on a blog. Write about how Apple does a good job of saving the planet.\n",
            "**🤖 LLM:** While some may argue that Apple is not an environmentally friendly company, I believe that they are making significant efforts to help save the planet. \n",
            "\n",
            "One of the ways that Apple is working to reduce their environmental impact is through their commitment to using renewable energy sources. They have made significant investments in solar and wind energy projects, and have pledged to power all of their operations with 100% renewable energy. This not only helps reduce their carbon footprint, but it also sets an example for other companies to follow suit.\n",
            "\n",
            "Additionally, Apple has been focused on reducing their use of harmful chemicals in their products. They have eliminated many toxic substances from their devices, and have implemented a recycling program to responsibly dispose of electronic waste. By doing so, they are not only protecting the environment, but they are also creating a more sustainable supply chain for their products.\n",
            "\n",
            "Furthermore, Apple has made strides in improving the energy efficiency of their products. By designing devices that consume less power, they are helping to reduce energy usage and greenhouse gas emissions. They have also introduced trade-in programs to encourage customers to recycle their old devices, rather than letting them end up in a landfill.\n",
            "\n",
            "In conclusion, while Apple may not be perfect in terms of their environmental impact, they are making genuine efforts to help save the planet. Their commitment to renewable energy, reducing toxic chemicals, and promoting recycling are all steps in the right direction. As a loyal Apple fan, I am proud to support a company that is taking responsibility for their environmental footprint and working towards a more sustainable future.\n"
          ]
        }
      ]
    },
    {
      "cell_type": "code",
      "source": [
        "# Define the split ratio, e.g., 80% training and 20% testing\n",
        "train_size = 0.8\n",
        "\n",
        "# Perform the train/test split\n",
        "train_df, test_df = train_test_split(dataset, train_size=train_size, random_state=42)\n",
        "\n",
        "# Save the split datasets to new CSV files\n",
        "train_df.to_csv('PromptDataset_train.csv', index=False)\n",
        "test_df.to_csv('PromptDataset_test.csv', index=False)\n",
        "\n",
        "print(\"Train/test split completed. Files saved as 'PromptDataset_train.csv' and 'PromptDataset_test.csv'.\")"
      ],
      "metadata": {
        "colab": {
          "base_uri": "https://localhost:8080/"
        },
        "id": "OMgbJYIC2vRx",
        "outputId": "1e5bf214-1c29-43d5-a844-f8c17d2df9d8"
      },
      "execution_count": 8,
      "outputs": [
        {
          "output_type": "stream",
          "name": "stdout",
          "text": [
            "Train/test split completed. Files saved as 'PromptDataset_train.csv' and 'PromptDataset_test.csv'.\n"
          ]
        }
      ]
    },
    {
      "cell_type": "code",
      "source": [
        "import json\n",
        "\n",
        "def csv_to_jsonl(csv_file_path, jsonl_file_path):\n",
        "    # Load the CSV file into a DataFrame\n",
        "    dataset = pd.read_csv(csv_file_path)\n",
        "\n",
        "    # Open the JSONL file for writing\n",
        "    with open(jsonl_file_path, 'w') as jsonl_file:\n",
        "        for _, row in dataset.iterrows():\n",
        "            # Construct the JSON object for each row\n",
        "            json_obj = {\n",
        "                \"messages\": [\n",
        "                    {\"role\": \"user\", \"content\": row['Prompt']},\n",
        "                    {\"role\": \"assistant\", \"content\": row['Response']}\n",
        "                ]\n",
        "            }\n",
        "            # Write the JSON object to the JSONL file\n",
        "            jsonl_file.write(json.dumps(json_obj) + '\\n')\n",
        "\n",
        "    print(f\"CSV file '{csv_file_path}' converted to JSONL format and saved as '{jsonl_file_path}'.\")"
      ],
      "metadata": {
        "id": "IQab0OziUDzJ"
      },
      "execution_count": 9,
      "outputs": []
    },
    {
      "cell_type": "code",
      "source": [
        "# Paths for the CSV and JSONL files\n",
        "csv_files = [\n",
        "    (\"PromptDataset_train.csv\", \"PromptDataset_train.jsonl\"),\n",
        "    (\"PromptDataset_test.csv\", \"PromptDataset_test.jsonl\")\n",
        "]\n",
        "\n",
        "# Convert each CSV file to JSONL format\n",
        "for csv_file_path, jsonl_file_path in csv_files:\n",
        "    csv_to_jsonl(csv_file_path, jsonl_file_path)"
      ],
      "metadata": {
        "colab": {
          "base_uri": "https://localhost:8080/"
        },
        "id": "ecXu4bhH2x-v",
        "outputId": "6cc3c0c4-fcb5-41eb-8c28-797b94961e60"
      },
      "execution_count": 10,
      "outputs": [
        {
          "output_type": "stream",
          "name": "stdout",
          "text": [
            "CSV file 'PromptDataset_train.csv' converted to JSONL format and saved as 'PromptDataset_train.jsonl'.\n",
            "CSV file 'PromptDataset_test.csv' converted to JSONL format and saved as 'PromptDataset_test.jsonl'.\n"
          ]
        }
      ]
    },
    {
      "cell_type": "code",
      "source": [
        "!head -n 5 PromptDataset_train.jsonl"
      ],
      "metadata": {
        "colab": {
          "base_uri": "https://localhost:8080/"
        },
        "id": "4FEZAJMEF0hP",
        "outputId": "90750649-e1f1-44bd-e1f4-fe2da4671314"
      },
      "execution_count": 11,
      "outputs": [
        {
          "output_type": "stream",
          "name": "stdout",
          "text": [
            "{\"messages\": [{\"role\": \"user\", \"content\": \"What are the seven continents of the world?\"}, {\"role\": \"assistant\", \"content\": \"The seven continents of the world are Asia, Africa, North America, South America, Europe, and Australia.\\r\"}]}\n",
            "{\"messages\": [{\"role\": \"user\", \"content\": \"What are the main differences between classical and quantum computing?\"}, {\"role\": \"assistant\", \"content\": \"The main differences between classical and quantum computing are the methods and speed of each type of computing. Classical computing uses bits to represent data for binary processing and quantum computing uses quantum properties of atomic and subatomic particles. Classical computing uses bits as the basic unit of information, which can be either 0 or 1, and linearly performs operations with stable and well-established error correction methods.  Quantum computing uses qubits, which can exist in a superposition of states, allowing for simultaneous calculations and solving specific problems more efficiently using quantum algorithms. However, quantum computing is more vulnerable to errors and requires more complex correction.\\r\"}]}\n",
            "{\"messages\": [{\"role\": \"user\", \"content\": \"How does the education system in the United States compare to India?\"}, {\"role\": \"assistant\", \"content\": \"The Indian education system is structured as 10+2, focusing heavily on academic performance and competitive exams, particularly in STEM fields. Recent reforms aim to incorporate holistic approaches, including vocational and digital skills. In contrast, Finland emphasizes student well-being, creativity, and minimal standardized testing. The U.S. offers flexibility in subject choice and values liberal arts and extracurricular activities, with options like AP courses and community colleges for broader education.\\r\"}]}\n",
            "{\"messages\": [{\"role\": \"user\", \"content\": \"What was the significance of the Magna Carta?\"}, {\"role\": \"assistant\", \"content\": \"Magna Carta was created in June 1215, the first written statement of the idea that the king and his government were subject to the law. It created guidelines that limited the monarch's authority and prepared the way for modern democracy. It also had an impact on several other constitutional texts, such as the Universal Declaration of Human Rights and the US Constitution.\\r\"}]}\n",
            "{\"messages\": [{\"role\": \"user\", \"content\": \"Describe how photosynthesis works.\"}, {\"role\": \"assistant\", \"content\": \"Photosynthesis is the process in which green plants, algae and some bacteria convert light energy into chemical energy to be used by the plant. This process can be divided into two main stages:\\nLight-dependent Reactions: Chlorophyll, a green pigment in the chloroplasts of plant cells, first absorbs light energy. The absorbed light energy then splits water molecules into protons (H+) and electrons (e-) with oxygen (02) as a byproduct. The electrons will travel through a series of proteins known as the electron transport chain, and their energy moves the protons. This creates a proton gradient which drives the synthesis of ATP (adenosine triphosphate) and NADPH (nicotinamide adenine dinucleotide phosphate). \\nLight-independent Reactions: The ATP energy and NADPH produced earlier is used to convert carbon dioxide into glucose, which can be used by the plant. \\nThe overall chemical equation for photosynthesis is 6CO2 + 6H2O + light energy -> C6H12O6 + 6O2.\\n\"}]}\n"
          ]
        }
      ]
    },
    {
      "cell_type": "code",
      "source": [
        "!head -n 5 PromptDataset_test.jsonl"
      ],
      "metadata": {
        "colab": {
          "base_uri": "https://localhost:8080/"
        },
        "id": "VrKT7AdzILOZ",
        "outputId": "3151a274-53a7-4489-f6c0-e06af415b821"
      },
      "execution_count": 12,
      "outputs": [
        {
          "output_type": "stream",
          "name": "stdout",
          "text": [
            "{\"messages\": [{\"role\": \"user\", \"content\": \"Describe the climate and geography of the Sahara Desert.\"}, {\"role\": \"assistant\", \"content\": \"The Sahara Desert has an exceptionally dry environment, with daytime highs of over 100 degrees Celsius and nighttime lows of around 60 degrees. It covers most of North Africa and is typified by long areas of dunes, rocky plateaus, gravel plains, and scattered mountains and lakes.\\r\"}]}\n",
            "{\"messages\": [{\"role\": \"user\", \"content\": \"What are the ethical considerations in animal testing for medical research?\"}, {\"role\": \"assistant\", \"content\": \"Animal testing in medical research raises ethical concerns regarding animal welfare, consent, and necessity. The 3Rs principle\\u2014Replacement, Reduction, and Refinement\\u2014guides ethical research by advocating for alternatives to animal use, minimizing the number of animals used, and refining procedures to reduce suffering. Ethical considerations also involve balancing scientific advancement with humane treatment, ensuring that animal testing is justified and that benefits outweigh ethical costs.\\r\"}]}\n",
            "{\"messages\": [{\"role\": \"user\", \"content\": \"Discuss the concpt of free will versus determinism.\"}, {\"role\": \"assistant\", \"content\": \"The debate between free will and determinism centers on whether humans have the ability to make choices independent of external forces or if every action is predetermined by factors such as biology and environment. Proponents of free will argue that individuals can make conscious decisions, reflecting personal autonomy. Determinists, however, claim that all events, including human actions, are the result of preceding causes. Compatibilists attempt to reconcile the two by suggesting that free will is compatible with determinism, arguing that people can still be responsible for their actions even if they are determined by prior states.\\r\"}]}\n",
            "{\"messages\": [{\"role\": \"user\", \"content\": \"How can you prioritize tasks when you have multiple deadlines to meet?\"}, {\"role\": \"assistant\", \"content\": \"I prioritize tasks when I have multiple deadlines by noting them on my calendar. The ones that have closer deadlines are the ones I will try and finish first. For example, if I had a research project due in two weeks, but had a college application due in three weeks, I would first finish the research project. \\r\"}]}\n",
            "{\"messages\": [{\"role\": \"user\", \"content\": \"Describe the cultural impact of the Beatles on music.\"}, {\"role\": \"assistant\", \"content\": \"The Beatles had a profound cultural impact on music, revolutionizing the industry and influencing countless artists and genres. Their innovative approach to songwriting, recording techniques, and incorporation of diverse musical styles set new standards for popular music. The Beatles' lyrics often reflected the social and political climate of the 1960s, resonating with a global audience and contributing to the counterculture movement. Their popularity also helped bridge cultural gaps, bringing rock and roll to mainstream acceptance. The Beatles' legacy endures, as their music continues to inspire new generations and shape the evolution of modern music.\\r\"}]}\n"
          ]
        }
      ]
    },
    {
      "cell_type": "code",
      "source": [
        "def upload_file(file_name: str, purpose: str) -> str:\n",
        "    with open(file_name, \"rb\") as file_fd:\n",
        "        response = client.files.create(file=file_fd, purpose=purpose)\n",
        "    return response.id\n",
        "\n",
        "training_file_id = upload_file(\"PromptDataset_train.jsonl\", \"fine-tune\")\n",
        "validation_file_id = upload_file(\"PromptDataset_test.jsonl\", \"fine-tune\")\n",
        "\n",
        "print(\"Training file ID:\", training_file_id)\n",
        "print(\"Validation file ID:\", validation_file_id)"
      ],
      "metadata": {
        "colab": {
          "base_uri": "https://localhost:8080/"
        },
        "id": "nLWYpZowIRSl",
        "outputId": "4bf1f460-ef2a-4d36-e263-a46f5151fa20"
      },
      "execution_count": 13,
      "outputs": [
        {
          "output_type": "stream",
          "name": "stdout",
          "text": [
            "Training file ID: file-7DM1YQlqT33XYyay3BPhoLXr\n",
            "Validation file ID: file-hW9Kf2Ldffd1oAHlEUALgyDq\n"
          ]
        }
      ]
    },
    {
      "cell_type": "code",
      "source": [
        "MODEL = \"gpt-3.5-turbo\"\n",
        "\n",
        "response = client.fine_tuning.jobs.create(\n",
        "    training_file=training_file_id,\n",
        "    validation_file=validation_file_id,\n",
        "    model=MODEL,\n",
        "    suffix=\"recipe-ner\",\n",
        ")\n",
        "\n",
        "job_id = response.id\n",
        "\n",
        "print(\"Job ID:\", response.id)\n",
        "print(\"Status:\", response.status)"
      ],
      "metadata": {
        "colab": {
          "base_uri": "https://localhost:8080/"
        },
        "id": "ouNvOmp6Ic8j",
        "outputId": "be2c5a0c-2617-4ac9-9f99-a5532c46fe57"
      },
      "execution_count": 74,
      "outputs": [
        {
          "output_type": "stream",
          "name": "stdout",
          "text": [
            "Job ID: ftjob-sl1m4dZGgjeV49bXF9znRDlW\n",
            "Status: validating_files\n"
          ]
        }
      ]
    },
    {
      "cell_type": "code",
      "source": [
        "response = client.fine_tuning.jobs.retrieve(job_id)\n",
        "\n",
        "print(\"Job ID:\", response.id)\n",
        "print(\"Status:\", response.status)\n",
        "print(\"Trained Tokens:\", response.trained_tokens)"
      ],
      "metadata": {
        "colab": {
          "base_uri": "https://localhost:8080/"
        },
        "id": "Fb56pR0mIrtk",
        "outputId": "4881f830-f130-4744-b9f6-77efd44fc82d"
      },
      "execution_count": 75,
      "outputs": [
        {
          "output_type": "stream",
          "name": "stdout",
          "text": [
            "Job ID: ftjob-sl1m4dZGgjeV49bXF9znRDlW\n",
            "Status: running\n",
            "Trained Tokens: None\n"
          ]
        }
      ]
    },
    {
      "cell_type": "code",
      "source": [
        "response = client.fine_tuning.jobs.list_events(job_id)\n",
        "\n",
        "events = response.data\n",
        "events.reverse()\n",
        "\n",
        "for event in events:\n",
        "    print(event.message)"
      ],
      "metadata": {
        "colab": {
          "base_uri": "https://localhost:8080/"
        },
        "id": "VfUeU8c9Iuyk",
        "outputId": "990e99d1-89b2-4f8a-df6c-75ec8927333c"
      },
      "execution_count": 78,
      "outputs": [
        {
          "output_type": "stream",
          "name": "stdout",
          "text": [
            "Step 105/120: training loss=1.45\n",
            "Step 106/120: training loss=1.55\n",
            "Step 107/120: training loss=0.54\n",
            "Step 108/120: training loss=2.13\n",
            "Step 109/120: training loss=0.41\n",
            "Step 110/120: training loss=2.03, validation loss=2.00\n",
            "Step 111/120: training loss=0.90\n",
            "Step 112/120: training loss=0.48\n",
            "Step 113/120: training loss=0.65\n",
            "Step 114/120: training loss=1.48\n",
            "Step 115/120: training loss=0.93\n",
            "Step 116/120: training loss=0.68\n",
            "Step 117/120: training loss=1.12\n",
            "Step 118/120: training loss=0.80\n",
            "Step 119/120: training loss=0.54\n",
            "Step 120/120: training loss=1.41, validation loss=1.09, full validation loss=1.42\n",
            "Checkpoint created at step 40 with Snapshot ID: ft:gpt-3.5-turbo-0125:personal:recipe-ner:9sGpaBPL:ckpt-step-40\n",
            "Checkpoint created at step 80 with Snapshot ID: ft:gpt-3.5-turbo-0125:personal:recipe-ner:9sGpaxJ7:ckpt-step-80\n",
            "New fine-tuned model created: ft:gpt-3.5-turbo-0125:personal:recipe-ner:9sGpaZY4\n",
            "The job has successfully completed\n"
          ]
        }
      ]
    },
    {
      "cell_type": "code",
      "source": [
        "response = client.fine_tuning.jobs.retrieve(job_id)\n",
        "fine_tuned_model_id = response.fine_tuned_model\n",
        "\n",
        "if fine_tuned_model_id is None:\n",
        "    raise RuntimeError(\n",
        "        \"Fine-tuned model ID not found. Your job has likely not been completed yet.\"\n",
        "    )\n",
        "\n",
        "print(\"Fine-tuned model ID:\", fine_tuned_model_id)"
      ],
      "metadata": {
        "colab": {
          "base_uri": "https://localhost:8080/"
        },
        "id": "X2twCjOdKP8l",
        "outputId": "a7ee0296-b4eb-4484-977b-1007fb22cc4f"
      },
      "execution_count": 79,
      "outputs": [
        {
          "output_type": "stream",
          "name": "stdout",
          "text": [
            "Fine-tuned model ID: ft:gpt-3.5-turbo-0125:personal:recipe-ner:9sGpaZY4\n"
          ]
        }
      ]
    },
    {
      "cell_type": "code",
      "source": [
        "test_messages = []\n",
        "test_messages.append({\"role\": \"user\", \"content\": \"What are your thoughts on collaborative work?\"})"
      ],
      "metadata": {
        "id": "DmQFlc9DM1-X"
      },
      "execution_count": 93,
      "outputs": []
    },
    {
      "cell_type": "code",
      "source": [
        "response = client.chat.completions.create(\n",
        "    model=fine_tuned_model_id, messages=test_messages, temperature=0, max_tokens=500\n",
        ")\n",
        "print(response.choices[0].message.content)"
      ],
      "metadata": {
        "colab": {
          "base_uri": "https://localhost:8080/"
        },
        "id": "qtD_vLEuNTfZ",
        "outputId": "2921b627-1d5b-4a7c-b5b8-fadde091702b"
      },
      "execution_count": 94,
      "outputs": [
        {
          "output_type": "stream",
          "name": "stdout",
          "text": [
            "I think collaborative work is a great way to bring together different perspectives and ideas to create something truly unique. It allows individuals to leverage each other's strengths and expertise, leading to more innovative and effective solutions. However, it can also be challenging at times, as it requires strong communication and teamwork skills to ensure everyone is on the same page and working towards a common goal. Overall, I believe that when done effectively, collaborative work can lead to better outcomes and a more enriching experience for everyone involved.\n"
          ]
        }
      ]
    }
  ]
}